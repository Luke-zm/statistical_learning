{
 "cells": [
  {
   "cell_type": "markdown",
   "id": "6bffac0c",
   "metadata": {},
   "source": [
    "# Lab: kNN Classification of MNIST handwritten digits\n",
    "\n",
    "We will perform one of the most tasks in machine learning research: Classifying hand-written digits in the MNIST dataset. We will compare various classification methods we have encountered so far.\n",
    "\n",
    "I have saved the digits dataset in a format called 'pickle', which is one commonly used method for saving data or any object in Python that does not easily fit into a CSV file.\n",
    "\n",
    "In this case, the data are images (of the hand-written digits) represented as 28 x 28 pixel arrays. Each element of an array is the intensity of a black and white image at that pixel.\n",
    "\n",
    "Run the following code to load the dataset and explore it."
   ]
  },
  {
   "cell_type": "code",
   "execution_count": 1,
   "id": "af892ffc",
   "metadata": {},
   "outputs": [
    {
     "name": "stdout",
     "output_type": "stream",
     "text": [
      "Shape of X: (10000, 28, 28)\n",
      "First digit in the dataset: [[  0   0   0   0   0   0   0   0   0   0   0   0   0   0   0   0   0   0\n",
      "    0   0   0   0   0   0   0   0   0   0]\n",
      " [  0   0   0   0   0   0   0   0   0   0   0   0   0   0   0   0   0   0\n",
      "    0   0   0   0   0   0   0   0   0   0]\n",
      " [  0   0   0   0   0   0   0   0   0   0   0   0   0   0   0   0   0   0\n",
      "    0   0   0   0   0   0   0   0   0   0]\n",
      " [  0   0   0   0   0   0   0   0   0   0   0   0   0   0   0   0   0   0\n",
      "    0   0   0   0   0   0   0   0   0   0]\n",
      " [  0   0   0  60 254 255 224  59  59   9   0   0   0   0   0   0   0   0\n",
      "    0   0   0   0   0   0   0   0   0   0]\n",
      " [  0   0   0 150 253 253 253 253 253 137 118 118  27  28 118 118   9   0\n",
      "    0   0   0   0   0   0   0   0   0   0]\n",
      " [  0   0   0 119 253 253 253 253 253 253 253 253 193 195 253 253 154   0\n",
      "    0   0   0   0   0   0   0   0   0   0]\n",
      " [  0   0   0   5  18  18  49 213 213 213 213 213 213 254 253 253 250 235\n",
      "  114  37   0   0   0   0   0   0   0   0]\n",
      " [  0   0   0   0   0   0   0   0   0   0   0   0   0 156 154 154 246 253\n",
      "  253 241  68   0   0   0   0   0   0   0]\n",
      " [  0   0   0   0   0   0   0   0   0   0   0   0   0   0   0   0 235 253\n",
      "  253 253 174   0   0   0   0   0   0   0]\n",
      " [  0   0   0   0   0   0   0   0   0   0   0   0   0  66 215 215 250 253\n",
      "  253 253 174   0   0   0   0   0   0   0]\n",
      " [  0   0   0   0   0   0   0   0   0   0   0   0   0 254 253 253 253 253\n",
      "  253 246 121   0   0   0   0   0   0   0]\n",
      " [  0   0   0   0   0   0   0   0   0   0   0   0   0 254 253 253 253 199\n",
      "  116 107   0   0   0   0   0   0   0   0]\n",
      " [  0   0   0   0   0   0   0   0   0   0   0   0   0 103 253 253 253 230\n",
      "   75   0   0   0   0   0   0   0   0   0]\n",
      " [  0   0   0   0   0   0   0   0   0   0   0   0   0  46 196 237 254 254\n",
      "  133  55   0   0   0   0   0   0   0   0]\n",
      " [  0   0   0   0   0   0   0   0   0   0   0   0   0   0   0  95 244 253\n",
      "  253 242  82   0   0   0   0   0   0   0]\n",
      " [  0   0   0   0   0   0   0   0   0   0   0   0   0   0   0   0  72 144\n",
      "  253 253 229  81   0   0   0   0   0   0]\n",
      " [  0   0   0   0   0   0  37  25   0   0   0   0   0   0   0   0   0   7\n",
      "  163 253 253 243  53   0   0   0   0   0]\n",
      " [  0   0   0   0   0   0 235 192  38   0   0   0   0   0   0   0   0   0\n",
      "  156 253 253 253  57   0   0   0   0   0]\n",
      " [  0   0   0   0   0   0 235 253 193  24   0   0   0   0   0   0   0  61\n",
      "  216 253 253 253  57   0   0   0   0   0]\n",
      " [  0   0   0   0   0   0 220 253 253 221 215 215 215 217 215 215 215 230\n",
      "  253 253 253 253  57   0   0   0   0   0]\n",
      " [  0   0   0   0   0   0  40 253 253 253 253 253 253 254 253 253 253 253\n",
      "  253 253 228 174  40   0   0   0   0   0]\n",
      " [  0   0   0   0   0   0  40 253 253 253 253 253 253 254 253 253 253 253\n",
      "  253 135  80   0   0   0   0   0   0   0]\n",
      " [  0   0   0   0   0   0   9  57  57 224 253 253 253 209  57  57  57  57\n",
      "   57   9   0   0   0   0   0   0   0   0]\n",
      " [  0   0   0   0   0   0   0   0   0   0   0   0   0   0   0   0   0   0\n",
      "    0   0   0   0   0   0   0   0   0   0]\n",
      " [  0   0   0   0   0   0   0   0   0   0   0   0   0   0   0   0   0   0\n",
      "    0   0   0   0   0   0   0   0   0   0]\n",
      " [  0   0   0   0   0   0   0   0   0   0   0   0   0   0   0   0   0   0\n",
      "    0   0   0   0   0   0   0   0   0   0]\n",
      " [  0   0   0   0   0   0   0   0   0   0   0   0   0   0   0   0   0   0\n",
      "    0   0   0   0   0   0   0   0   0   0]]\n",
      "Unique digits present: [0 1 2 3 4 5 6 7 8 9]\n"
     ]
    }
   ],
   "source": [
    "import pickle\n",
    "import numpy as np\n",
    "\n",
    "X = pickle.load(open('mnist_10k_X.pkl', 'rb'))\n",
    "Y = pickle.load(open('mnist_10k_Y.pkl', 'rb'))\n",
    "\n",
    "print(\"Shape of X:\", X.shape)  # These are 28 x 28 pixel images. How many examples are there?\n",
    "\n",
    "print(\"First digit in the dataset:\", X[0, : :])  # look at what the first example looks like (note this is a Numpy array, NOT a Pandas DataFrame)\n",
    "\n",
    "print(\"Unique digits present:\", np.unique(Y))  # view the unique digits present in this dataset"
   ]
  },
  {
   "cell_type": "code",
   "execution_count": 2,
   "id": "1114968d",
   "metadata": {},
   "outputs": [
    {
     "data": {
      "text/plain": [
       "1    1183\n",
       "7    1072\n",
       "6    1022\n",
       "4    1007\n",
       "3    1001\n",
       "2     980\n",
       "0     967\n",
       "9     953\n",
       "8     945\n",
       "5     870\n",
       "Name: count, dtype: int64"
      ]
     },
     "execution_count": 2,
     "metadata": {},
     "output_type": "execute_result"
    }
   ],
   "source": [
    "import pandas as pd\n",
    "pd.value_counts(Y)"
   ]
  },
  {
   "cell_type": "markdown",
   "id": "006eaad5",
   "metadata": {},
   "source": [
    "### Visualize the digits\n",
    "\n",
    "Since these are black and white images, where the entries in the array are grayscale intensity values, we can easily visualize the digit with plt.imshow(). Below I show you how to call it, but just know it visualizes the pixel intensities as an image."
   ]
  },
  {
   "cell_type": "code",
   "execution_count": 3,
   "id": "a0ddebb9",
   "metadata": {},
   "outputs": [
    {
     "data": {
      "text/plain": [
       "<matplotlib.image.AxesImage at 0x132b779d0>"
      ]
     },
     "execution_count": 3,
     "metadata": {},
     "output_type": "execute_result"
    },
    {
     "data": {
      "image/png": "[encoded data removed]",
      "text/plain": [
       "<Figure size 640x480 with 1 Axes>"
      ]
     },
     "metadata": {},
     "output_type": "display_data"
    }
   ],
   "source": [
    "import matplotlib.pyplot as plt\n",
    "\n",
    "plt.imshow(X[1200, :, :], cmap='gray_r')  # cmap='gray_r' says to plot in grayscale and make the digit black"
   ]
  },
  {
   "cell_type": "markdown",
   "id": "1974b3b3",
   "metadata": {},
   "source": [
    "### Vectorize the data and train a k-nn classifier\n",
    "\n",
    "In order to train a supervised learning model, we need to put the 28 x 28 grid into a vector. The following code does that and then fits a k-NN classifier."
   ]
  },
  {
   "cell_type": "code",
   "execution_count": 4,
   "id": "92a5bebd",
   "metadata": {},
   "outputs": [
    {
     "name": "stdout",
     "output_type": "stream",
     "text": [
      "Shape of flattened data is: (10000, 784)\n"
     ]
    },
    {
     "data": {
      "text/html": [
       "<style>#sk-container-id-1 {color: black;}#sk-container-id-1 pre{padding: 0;}#sk-container-id-1 div.sk-toggleable {background-color: white;}#sk-container-id-1 label.sk-toggleable__label {cursor: pointer;display: block;width: 100%;margin-bottom: 0;padding: 0.3em;box-sizing: border-box;text-align: center;}#sk-container-id-1 label.sk-toggleable__label-arrow:before {content: \"▸\";float: left;margin-right: 0.25em;color: #696969;}#sk-container-id-1 label.sk-toggleable__label-arrow:hover:before {color: black;}#sk-container-id-1 div.sk-estimator:hover label.sk-toggleable__label-arrow:before {color: black;}#sk-container-id-1 div.sk-toggleable__content {max-height: 0;max-width: 0;overflow: hidden;text-align: left;background-color: #f0f8ff;}#sk-container-id-1 div.sk-toggleable__content pre {margin: 0.2em;color: black;border-radius: 0.25em;background-color: #f0f8ff;}#sk-container-id-1 input.sk-toggleable__control:checked~div.sk-toggleable__content {max-height: 200px;max-width: 100%;overflow: auto;}#sk-container-id-1 input.sk-toggleable__control:checked~label.sk-toggleable__label-arrow:before {content: \"▾\";}#sk-container-id-1 div.sk-estimator input.sk-toggleable__control:checked~label.sk-toggleable__label {background-color: #d4ebff;}#sk-container-id-1 div.sk-label input.sk-toggleable__control:checked~label.sk-toggleable__label {background-color: #d4ebff;}#sk-container-id-1 input.sk-hidden--visually {border: 0;clip: rect(1px 1px 1px 1px);clip: rect(1px, 1px, 1px, 1px);height: 1px;margin: -1px;overflow: hidden;padding: 0;position: absolute;width: 1px;}#sk-container-id-1 div.sk-estimator {font-family: monospace;background-color: #f0f8ff;border: 1px dotted black;border-radius: 0.25em;box-sizing: border-box;margin-bottom: 0.5em;}#sk-container-id-1 div.sk-estimator:hover {background-color: #d4ebff;}#sk-container-id-1 div.sk-parallel-item::after {content: \"\";width: 100%;border-bottom: 1px solid gray;flex-grow: 1;}#sk-container-id-1 div.sk-label:hover label.sk-toggleable__label {background-color: #d4ebff;}#sk-container-id-1 div.sk-serial::before {content: \"\";position: absolute;border-left: 1px solid gray;box-sizing: border-box;top: 0;bottom: 0;left: 50%;z-index: 0;}#sk-container-id-1 div.sk-serial {display: flex;flex-direction: column;align-items: center;background-color: white;padding-right: 0.2em;padding-left: 0.2em;position: relative;}#sk-container-id-1 div.sk-item {position: relative;z-index: 1;}#sk-container-id-1 div.sk-parallel {display: flex;align-items: stretch;justify-content: center;background-color: white;position: relative;}#sk-container-id-1 div.sk-item::before, #sk-container-id-1 div.sk-parallel-item::before {content: \"\";position: absolute;border-left: 1px solid gray;box-sizing: border-box;top: 0;bottom: 0;left: 50%;z-index: -1;}#sk-container-id-1 div.sk-parallel-item {display: flex;flex-direction: column;z-index: 1;position: relative;background-color: white;}#sk-container-id-1 div.sk-parallel-item:first-child::after {align-self: flex-end;width: 50%;}#sk-container-id-1 div.sk-parallel-item:last-child::after {align-self: flex-start;width: 50%;}#sk-container-id-1 div.sk-parallel-item:only-child::after {width: 0;}#sk-container-id-1 div.sk-dashed-wrapped {border: 1px dashed gray;margin: 0 0.4em 0.5em 0.4em;box-sizing: border-box;padding-bottom: 0.4em;background-color: white;}#sk-container-id-1 div.sk-label label {font-family: monospace;font-weight: bold;display: inline-block;line-height: 1.2em;}#sk-container-id-1 div.sk-label-container {text-align: center;}#sk-container-id-1 div.sk-container {/* jupyter's `normalize.less` sets `[hidden] { display: none; }` but bootstrap.min.css set `[hidden] { display: none !important; }` so we also need the `!important` here to be able to override the default hidden behavior on the sphinx rendered scikit-learn.org. See: https://github.com/scikit-learn/scikit-learn/issues/21755 */display: inline-block !important;position: relative;}#sk-container-id-1 div.sk-text-repr-fallback {display: none;}</style><div id=\"sk-container-id-1\" class=\"sk-top-container\"><div class=\"sk-text-repr-fallback\"><pre>KNeighborsClassifier(n_neighbors=3)</pre><b>In a Jupyter environment, please rerun this cell to show the HTML representation or trust the notebook. <br />On GitHub, the HTML representation is unable to render, please try loading this page with nbviewer.org.</b></div><div class=\"sk-container\" hidden><div class=\"sk-item\"><div class=\"sk-estimator sk-toggleable\"><input class=\"sk-toggleable__control sk-hidden--visually\" id=\"sk-estimator-id-1\" type=\"checkbox\" checked><label for=\"sk-estimator-id-1\" class=\"sk-toggleable__label sk-toggleable__label-arrow\">KNeighborsClassifier</label><div class=\"sk-toggleable__content\"><pre>KNeighborsClassifier(n_neighbors=3)</pre></div></div></div></div></div>"
      ],
      "text/plain": [
       "KNeighborsClassifier(n_neighbors=3)"
      ]
     },
     "execution_count": 4,
     "metadata": {},
     "output_type": "execute_result"
    }
   ],
   "source": [
    "from sklearn.neighbors import KNeighborsClassifier\n",
    "\n",
    "X_flattened = []\n",
    "for i_ in range(len(X)):\n",
    "    Xi_ = X[i_, :, :]\n",
    "    Xi_flattened = Xi_.ravel()\n",
    "    X_flattened.append(Xi_flattened)\n",
    "    \n",
    "X_flattened = np.array(X_flattened)  # turn it back into a Numpy Array\n",
    "\n",
    "print(\"Shape of flattened data is:\", X_flattened.shape)\n",
    "\n",
    "k_ = 3  # first try 3 neighbors\n",
    "\n",
    "clf = KNeighborsClassifier(n_neighbors=k_)\n",
    "clf.fit(X_flattened, Y)"
   ]
  },
  {
   "cell_type": "code",
   "execution_count": 5,
   "id": "1caf3e1f",
   "metadata": {},
   "outputs": [
    {
     "data": {
      "text/plain": [
       "<matplotlib.image.AxesImage at 0x159ab9cd0>"
      ]
     },
     "execution_count": 5,
     "metadata": {},
     "output_type": "execute_result"
    },
    {
     "data": {
      "image/png": "[encoded data removed]",
      "text/plain": [
       "<Figure size 640x480 with 1 Axes>"
      ]
     },
     "metadata": {},
     "output_type": "display_data"
    },
    {
     "data": {
      "image/png": "[encoded data removed]",
      "text/plain": [
       "<Figure size 640x480 with 1 Axes>"
      ]
     },
     "metadata": {},
     "output_type": "display_data"
    }
   ],
   "source": [
    "X_examples = X[[1200, 6000], :, :]\n",
    "\n",
    "plt.figure()\n",
    "plt.imshow(X_examples[0, :, :], cmap='gray_r')\n",
    "\n",
    "plt.figure()\n",
    "plt.imshow(X_examples[1, :, :], cmap='gray_r')"
   ]
  },
  {
   "cell_type": "code",
   "execution_count": 6,
   "id": "7cd8d9fc",
   "metadata": {},
   "outputs": [
    {
     "name": "stdout",
     "output_type": "stream",
     "text": [
      "The predictions are: [1 7]\n",
      "The predicted probabilities are: [[0. 1. 0. 0. 0. 0. 0. 0. 0. 0.]\n",
      " [0. 0. 0. 0. 0. 0. 0. 1. 0. 0.]]\n",
      "Which correspond to the labels: [0 1 2 3 4 5 6 7 8 9]\n"
     ]
    }
   ],
   "source": [
    "X_examples_flattened = []\n",
    "for i_ in range(len(X_examples)):\n",
    "    X_examples_flattened.append(X_examples[i_, :, :].ravel())\n",
    "                                \n",
    "Y_pred = clf.predict(X_examples_flattened)  # scikit-learn expects everything to be 2D, so I pass this in as a list\n",
    "\n",
    "print(\"The predictions are:\", Y_pred)\n",
    "\n",
    "Y_pred_probs = clf.predict_proba(X_examples_flattened)\n",
    "print(\"The predicted probabilities are:\", Y_pred_probs)\n",
    "print(\"Which correspond to the labels:\", clf.classes_)"
   ]
  },
  {
   "cell_type": "code",
   "execution_count": null,
   "id": "7068e971",
   "metadata": {},
   "outputs": [],
   "source": []
  },
  {
   "cell_type": "markdown",
   "id": "7239d67f",
   "metadata": {},
   "source": [
    "### Cross-validating over k\n",
    "\n",
    "This is a scikit-learn function, so you may remember from the lab in Lecture 2 how to easily perform cross validation over k using sklearn.model_selection.GridSearchCV.\n",
    "\n",
    "The following code reminds you how to do this. Remember k-NN is an expensive algorithm so do not try too far beyond k=5 or you may end up waiting all day."
   ]
  },
  {
   "cell_type": "code",
   "execution_count": 7,
   "id": "649ee2ec",
   "metadata": {},
   "outputs": [
    {
     "name": "stdout",
     "output_type": "stream",
     "text": [
      "The optimally selected parameter is: {'n_neighbors': 1}\n"
     ]
    }
   ],
   "source": [
    "from sklearn.model_selection import GridSearchCV  # you may want to use this to select k in k-NN\n",
    "\n",
    "clf = KNeighborsClassifier(n_neighbors=k_)\n",
    "clf_cv = GridSearchCV(estimator=clf, param_grid={'n_neighbors': [1, 2, 3, 4, 5]})  # uses 5-fold cross validation by default\n",
    "\n",
    "clf_cv.fit(X_flattened, Y)\n",
    "\n",
    "print(\"The optimally selected parameter is:\", clf_cv.best_params_)"
   ]
  },
  {
   "cell_type": "markdown",
   "id": "7af868c9",
   "metadata": {},
   "source": [
    "### Note: \n",
    "In the above code, note that we did not specify a performance/evaluation metric with which to compare the different models during cross-validation. In this case, KNeighborsClassifier is using the mean accuracy as a score by default, and GridSearchCV is using 5-fold cross validation by default.\n",
    "\n",
    "\n",
    "### Multiclass classification\n",
    "\n",
    "Notice that we are doing multi-class classification, which is new for us, but is a simple generalization from the binary case. Most scikit-learn functions easily accept multi-class problems, where every unique value found in Y is treated as a different class.\n",
    "\n",
    "The logistic regression method in scikit-learn will also readily accept Y containing multiple labels. As a performance metric you can just use the accuracy score (fraction that was classified correctly)."
   ]
  },
  {
   "cell_type": "markdown",
   "id": "5fad2708",
   "metadata": {},
   "source": [
    "## Problem 1\n",
    "\n",
    "Pull everything you have done over the labs together to experimentally compare the (multiclass) classification performance of k-NN classification, and logistic regression with L1 and L2 regularization."
   ]
  },
  {
   "cell_type": "code",
   "execution_count": 51,
   "id": "2bf91c46",
   "metadata": {},
   "outputs": [
    {
     "name": "stdout",
     "output_type": "stream",
     "text": [
      "Finished logreg l1 split: 0\n",
      "Finished logreg l2 split: 0\n",
      "Finished knn k=1 split: 0\n",
      "Finished knn k=3 split: 0\n",
      "Finished knn k=5 split: 0\n",
      "This split took: 13.39 secs\n",
      "Finished logreg l1 split: 1\n",
      "Finished logreg l2 split: 1\n",
      "Finished knn k=1 split: 1\n",
      "Finished knn k=3 split: 1\n",
      "Finished knn k=5 split: 1\n",
      "This split took: 13.50 secs\n",
      "Finished logreg l1 split: 2\n",
      "Finished logreg l2 split: 2\n",
      "Finished knn k=1 split: 2\n",
      "Finished knn k=3 split: 2\n",
      "Finished knn k=5 split: 2\n",
      "This split took: 13.78 secs\n",
      "Finished logreg l1 split: 3\n",
      "Finished logreg l2 split: 3\n",
      "Finished knn k=1 split: 3\n",
      "Finished knn k=3 split: 3\n",
      "Finished knn k=5 split: 3\n",
      "This split took: 14.46 secs\n",
      "Finished logreg l1 split: 4\n",
      "Finished logreg l2 split: 4\n",
      "Finished knn k=1 split: 4\n",
      "Finished knn k=3 split: 4\n",
      "Finished knn k=5 split: 4\n",
      "This split took: 13.78 secs\n",
      "Finished logreg l1 split: 5\n",
      "Finished logreg l2 split: 5\n",
      "Finished knn k=1 split: 5\n",
      "Finished knn k=3 split: 5\n",
      "Finished knn k=5 split: 5\n",
      "This split took: 13.49 secs\n",
      "Finished logreg l1 split: 6\n",
      "Finished logreg l2 split: 6\n",
      "Finished knn k=1 split: 6\n",
      "Finished knn k=3 split: 6\n",
      "Finished knn k=5 split: 6\n",
      "This split took: 13.23 secs\n",
      "Finished logreg l1 split: 7\n",
      "Finished logreg l2 split: 7\n",
      "Finished knn k=1 split: 7\n",
      "Finished knn k=3 split: 7\n",
      "Finished knn k=5 split: 7\n",
      "This split took: 13.95 secs\n",
      "Finished logreg l1 split: 8\n",
      "Finished logreg l2 split: 8\n",
      "Finished knn k=1 split: 8\n",
      "Finished knn k=3 split: 8\n",
      "Finished knn k=5 split: 8\n",
      "This split took: 13.58 secs\n",
      "Finished logreg l1 split: 9\n",
      "Finished logreg l2 split: 9\n",
      "Finished knn k=1 split: 9\n",
      "Finished knn k=3 split: 9\n",
      "Finished knn k=5 split: 9\n",
      "This split took: 14.23 secs\n",
      "Finished logreg l1 split: 10\n",
      "Finished logreg l2 split: 10\n",
      "Finished knn k=1 split: 10\n",
      "Finished knn k=3 split: 10\n",
      "Finished knn k=5 split: 10\n",
      "This split took: 13.59 secs\n",
      "Finished logreg l1 split: 11\n",
      "Finished logreg l2 split: 11\n",
      "Finished knn k=1 split: 11\n",
      "Finished knn k=3 split: 11\n",
      "Finished knn k=5 split: 11\n",
      "This split took: 13.20 secs\n",
      "Finished logreg l1 split: 12\n",
      "Finished logreg l2 split: 12\n",
      "Finished knn k=1 split: 12\n",
      "Finished knn k=3 split: 12\n",
      "Finished knn k=5 split: 12\n",
      "This split took: 13.45 secs\n",
      "Finished logreg l1 split: 13\n",
      "Finished logreg l2 split: 13\n",
      "Finished knn k=1 split: 13\n",
      "Finished knn k=3 split: 13\n",
      "Finished knn k=5 split: 13\n",
      "This split took: 13.16 secs\n",
      "Finished logreg l1 split: 14\n",
      "Finished logreg l2 split: 14\n",
      "Finished knn k=1 split: 14\n",
      "Finished knn k=3 split: 14\n",
      "Finished knn k=5 split: 14\n",
      "This split took: 13.22 secs\n",
      "Finished logreg l1 split: 15\n",
      "Finished logreg l2 split: 15\n",
      "Finished knn k=1 split: 15\n",
      "Finished knn k=3 split: 15\n",
      "Finished knn k=5 split: 15\n",
      "This split took: 13.33 secs\n",
      "Finished logreg l1 split: 16\n",
      "Finished logreg l2 split: 16\n",
      "Finished knn k=1 split: 16\n",
      "Finished knn k=3 split: 16\n",
      "Finished knn k=5 split: 16\n",
      "This split took: 12.94 secs\n",
      "Finished logreg l1 split: 17\n",
      "Finished logreg l2 split: 17\n",
      "Finished knn k=1 split: 17\n",
      "Finished knn k=3 split: 17\n",
      "Finished knn k=5 split: 17\n",
      "This split took: 13.00 secs\n",
      "Finished logreg l1 split: 18\n",
      "Finished logreg l2 split: 18\n",
      "Finished knn k=1 split: 18\n",
      "Finished knn k=3 split: 18\n",
      "Finished knn k=5 split: 18\n",
      "This split took: 12.90 secs\n",
      "Finished logreg l1 split: 19\n",
      "Finished logreg l2 split: 19\n",
      "Finished knn k=1 split: 19\n",
      "Finished knn k=3 split: 19\n",
      "Finished knn k=5 split: 19\n",
      "This split took: 12.97 secs\n"
     ]
    }
   ],
   "source": [
    "from sklearn.linear_model import LogisticRegressionCV  # logistic regression with built in regularization. The penalty parameter is Cross-validated\n",
    "from sklearn.metrics import accuracy_score\n",
    "import time\n",
    "\n",
    "\n",
    "n_splits = 20  # number of cross validation splits\n",
    "\n",
    "indices = list(range(X_flattened.shape[0]))\n",
    "n_train = int(len(indices) * .85)  # 85% train, 15% split\n",
    "\n",
    "scores = {}  # this time we will use a dictionary structure to contain the errors\n",
    "for model_name in ['knn1', 'knn3', 'knn5', 'logisticl1', 'logisticl2']:\n",
    "    scores[model_name] = []  # initialize this dictionary entry to an empty list\n",
    "\n",
    "# I'm lazy so I'll just do random sampling of test sets (instead of K-fold cross validation)\n",
    "for i_ in range(n_splits):\n",
    "    \n",
    "    t_start = time.time()  # used to time things\n",
    "        \n",
    "    np.random.shuffle(indices)  # shuffles the list in-place, so returns nothing\n",
    "    train_inds = indices[:n_train]  # the first 85% are training indices\n",
    "    test_inds = indices[n_train:]  # the remaining 15% are testing indices\n",
    "    \n",
    "    X_train = X_flattened[train_inds, :]\n",
    "    X_test = X_flattened[test_inds, :]\n",
    "\n",
    "    Y_train = Y[train_inds]\n",
    "    Y_test = Y[test_inds]\n",
    "    \n",
    "    # scale the predictors by the max pixel value\n",
    "    for j_ in range(X_train.shape[1]):\n",
    "        X_train[:, j_] = X_train[:, j_] / 256\n",
    "        X_test[:, j_] = X_test[:, j_] / 256  # use the training statistics to transform the test cases\n",
    "    \n",
    "    clf = LogisticRegressionCV(penalty='l1', solver='saga', max_iter=1000)\n",
    "    clf.fit(X_train, Y_train)\n",
    "    score = accuracy_score(Y_test, clf.predict(X_test))\n",
    "    scores['logisticl1'].append(score)\n",
    "    print(\"Finished logreg l1 split:\", i_)\n",
    "    \n",
    "    clf = LogisticRegressionCV(penalty='l2', max_iter=1000)  # uses 5-fold cross validation by default\n",
    "    clf.fit(X_train, Y_train)  \n",
    "    #Y_pred_probs = clf.predict_proba(X_test) \n",
    "    #score = roc_auc_score(Y_test, Y_pred_probs, multi_class='ovr')\n",
    "    score = accuracy_score(Y_test, clf.predict(X_test))\n",
    "    scores['logisticl2'].append(score)\n",
    "    print(\"Finished logreg l2 split:\", i_)\n",
    "    \n",
    "    clf = KNeighborsClassifier(n_neighbors=1)\n",
    "    clf.fit(X_train, Y_train)  \n",
    "    #Y_pred_probs = clf.predict_proba(X_test) \n",
    "    #auc = roc_auc_score(Y_test, Y_pred_probs, multi_class='ovr')\n",
    "    score = accuracy_score(Y_test, clf.predict(X_test))\n",
    "    scores['knn1'].append(score)\n",
    "    print(\"Finished knn k=1 split:\", i_)\n",
    "    \n",
    "    clf = KNeighborsClassifier(n_neighbors=3)\n",
    "    clf.fit(X_train, Y_train)  \n",
    "    #Y_pred_probs = clf.predict_proba(X_test) \n",
    "    #auc = roc_auc_score(Y_test, Y_pred_probs, multi_class='ovr')\n",
    "    score = accuracy_score(Y_test, clf.predict(X_test))\n",
    "    scores['knn3'].append(score)\n",
    "    print(\"Finished knn k=3 split:\", i_)\n",
    "    \n",
    "    clf = KNeighborsClassifier(n_neighbors=5)\n",
    "    clf.fit(X_train, Y_train)  \n",
    "    #Y_pred_probs = clf.predict_proba(X_test) \n",
    "    #auc = roc_auc_score(Y_test, Y_pred_probs, multi_class='ovr')\n",
    "    score = accuracy_score(Y_test, clf.predict(X_test))\n",
    "    scores['knn5'].append(score)\n",
    "    print(\"Finished knn k=5 split:\", i_)\n",
    "    \n",
    "    t_elapsed = time.time() - t_start\n",
    "    print(\"This split took: %.2f secs\" % t_elapsed)\n"
   ]
  },
  {
   "cell_type": "code",
   "execution_count": 52,
   "id": "ffba3294",
   "metadata": {},
   "outputs": [
    {
     "data": {
      "text/plain": [
       "Text(0, 0.5, 'Classification accuracy')"
      ]
     },
     "execution_count": 52,
     "metadata": {},
     "output_type": "execute_result"
    },
    {
     "data": {
      "image/png": "[encoded data removed]",
      "text/plain": [
       "<Figure size 640x480 with 1 Axes>"
      ]
     },
     "metadata": {},
     "output_type": "display_data"
    }
   ],
   "source": [
    "# plot the results\n",
    "plt.figure()\n",
    "plt.boxplot([scores['logisticl1'], scores['logisticl2'], scores['knn1'], scores['knn3'], scores['knn5']], \n",
    "            labels=['logisticl1', 'logisticl2', 'knn1', 'knn3', 'knn5'])\n",
    "plt.ylabel('Classification accuracy')"
   ]
  },
  {
   "cell_type": "markdown",
   "id": "5fbad039",
   "metadata": {},
   "source": [
    "## Challenge\n",
    "\n",
    "Scikit-learn does not appear to have a built-in kernel smoothing module for supervised learning (do not get confused by other kernel methods such as those using Mercer kernels!)\n",
    "\n",
    "Given all you know from the lecture, could you code up your own kernel smoothing model from scratch? If you want to challenge yourself, do it when you get home."
   ]
  },
  {
   "cell_type": "code",
   "execution_count": null,
   "id": "defab6d3",
   "metadata": {},
   "outputs": [],
   "source": []
  }
 ],
 "metadata": {
  "kernelspec": {
   "display_name": "Python 3 (ipykernel)",
   "language": "python",
   "name": "python3"
  },
  "language_info": {
   "codemirror_mode": {
    "name": "ipython",
    "version": 3
   },
   "file_extension": ".py",
   "mimetype": "text/x-python",
   "name": "python",
   "nbconvert_exporter": "python",
   "pygments_lexer": "ipython3",
   "version": "3.11.5"
  }
 },
 "nbformat": 4,
 "nbformat_minor": 5
}
