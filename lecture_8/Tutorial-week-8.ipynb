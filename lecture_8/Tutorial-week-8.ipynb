{
 "cells": [
  {
   "cell_type": "markdown",
   "id": "97a7aa24",
   "metadata": {},
   "source": [
    "# Tutorial Week 8 - CART models\n",
    "\n",
    "## Question 1\n",
    "\n",
    "#### Here we consider the \"Hitters\" data discussed in lectures.  Start by making the following imports."
   ]
  },
  {
   "cell_type": "code",
   "execution_count": 1,
   "id": "7730f148-2483-48b5-a3ce-92cc78d6dea7",
   "metadata": {},
   "outputs": [],
   "source": [
    "import numpy as np\n",
    "import pandas as pd\n",
    "import matplotlib.pyplot as plt\n",
    "import sklearn.model_selection as skm\n",
    "from sklearn.tree import (DecisionTreeClassifier as DTC,\n",
    "                          DecisionTreeRegressor as DTR,\n",
    "                          plot_tree)\n",
    "from sklearn.metrics import (accuracy_score,\n",
    "                             log_loss)"
   ]
  },
  {
   "cell_type": "markdown",
   "id": "4878b18f",
   "metadata": {},
   "source": [
    "#### Next, read in the data.  You can read more about the data here \n",
    "\n",
    "https://islp.readthedocs.io/en/latest/datasets/Hitters.html"
   ]
  },
  {
   "cell_type": "markdown",
   "id": "9b61aa71",
   "metadata": {},
   "source": [
    "Hitters = pd.read_csv('Hitters.csv',\n",
    "                     na_values='?',sep=',',index_col=0)\n",
    "Hitters.columns"
   ]
  },
  {
   "cell_type": "markdown",
   "id": "5ceca1d4",
   "metadata": {},
   "source": [
    "### Now answer the following questions\n",
    "\n",
    "-  #### (a) How many rows and columns are in the data frame?\n",
    "-  #### (b) Delete any rows with missing data.  How many observations remain?\n",
    "-  #### (c) Extract the matrix of features as a data frame and the response vector y as the log of Salary.\n",
    "-  #### (d) Initialize a regression tree esitmator by typing\n",
    "> ```reg = DTR(min_samples_leaf=15)```  \n",
    "   #### Look at the help to see what other options are available in initializing the regression tree.\n",
    "-  #### (e) Fit the plot to all the data and plot it, without pruning\n",
    "- #### (f) Fit a regression tree to the training data after a training/test set split of 70%/30%, without pruning.  Plot the fitted tree to the training data.  \n",
    "- #### (g) What is the RMSE for your fitted tree on the test data?\n",
    "- #### (h) Using 5-fold cross-validation to prune the tree using cost-complexity pruning.  What is the test RMSE after pruning?\n",
    "- #### (i) Plot the pruned tree."
   ]
  },
  {
   "cell_type": "markdown",
   "id": "6929a0e1",
   "metadata": {},
   "source": [
    "## Question 2\n",
    "\n",
    "#### Here we consider the MRT ridership data discussed in lectures.  Start by making the following imports"
   ]
  },
  {
   "cell_type": "code",
   "execution_count": 2,
   "id": "dcb58051",
   "metadata": {},
   "outputs": [],
   "source": [
    "import numpy as np\n",
    "import pandas as pd\n",
    "import matplotlib.pyplot as plt\n",
    "import sklearn.model_selection as skm\n",
    "import statsmodels.api as sm\n",
    "from sklearn.tree import (DecisionTreeClassifier as DTC,\n",
    "                          DecisionTreeRegressor as DTR,\n",
    "                          plot_tree)\n",
    "from sklearn.metrics import (accuracy_score, confusion_matrix)"
   ]
  },
  {
   "cell_type": "markdown",
   "id": "7a5cf527",
   "metadata": {},
   "source": [
    "#### Next read in the data to a pandas data frame and take a look at a few of the Singlish and Australian slang phrases:"
   ]
  },
  {
   "cell_type": "code",
   "execution_count": null,
   "id": "6d7f0233",
   "metadata": {},
   "outputs": [],
   "source": [
    "Singlish = pd.read_csv('Singlish.csv')\n",
    "Singlish.head()"
   ]
  },
  {
   "cell_type": "code",
   "execution_count": null,
   "id": "1b887da4",
   "metadata": {},
   "outputs": [],
   "source": [
    "Australian = (Singlish['label']=='A')\n",
    "Singlish[Australian].head()"
   ]
  },
  {
   "cell_type": "markdown",
   "id": "99e963c3",
   "metadata": {},
   "source": [
    "### Now answer the following questions.\n",
    "\n",
    "- #### (a) How many rows and columns are in the data frame?\n",
    "- #### (b) Extract the matrix of features as a data frame and the response vector y as 'label'.\n",
    "- #### (c) Do a training/test set split of 50%/50%, train a classification tree on the training data without pruning and plot the fitted tree.\n",
    "- #### (d) What is the training set accuracy?  What is the test set accuracy?\n",
    "- #### (e) Use ten-fold cross-validation on the training data to choose the optimal $\\alpha$ value for cost-complexit pruning.  \n",
    "- #### (f) For the optimal $\\alpha$ from part (e), and the fitted tree to the traning data, what is the training set accuracy and test set accuracy?\n",
    "- #### (g) Evaluate the performance of the classifier for part (f) by comparing with classification to the dominant class, as well as logistic regression.  "
   ]
  },
  {
   "cell_type": "code",
   "execution_count": null,
   "id": "7416d56b",
   "metadata": {},
   "outputs": [],
   "source": []
  }
 ],
 "metadata": {
  "kernelspec": {
   "display_name": "Python 3 (ipykernel)",
   "language": "python",
   "name": "python3"
  },
  "language_info": {
   "codemirror_mode": {
    "name": "ipython",
    "version": 3
   },
   "file_extension": ".py",
   "mimetype": "text/x-python",
   "name": "python",
   "nbconvert_exporter": "python",
   "pygments_lexer": "ipython3",
   "version": "3.9.18"
  }
 },
 "nbformat": 4,
 "nbformat_minor": 5
}
